{
  "nbformat": 4,
  "nbformat_minor": 0,
  "metadata": {
    "colab": {
      "name": "Untitled.ipynb",
      "provenance": [],
      "mount_file_id": "1RX2P0tb2RAnh0jZt6djwkkUfgpZX7ZSa",
      "authorship_tag": "ABX9TyNwEOqHAaWZ4YScdvv1X9Zy",
      "include_colab_link": true
    },
    "kernelspec": {
      "name": "python3",
      "display_name": "Python 3"
    },
    "language_info": {
      "name": "python"
    }
  },
  "cells": [
    {
      "cell_type": "markdown",
      "metadata": {
        "id": "view-in-github",
        "colab_type": "text"
      },
      "source": [
        "<a href=\"https://colab.research.google.com/github/amfakh/Expense-Forecaster/blob/main/Untitled.ipynb\" target=\"_parent\"><img src=\"https://colab.research.google.com/assets/colab-badge.svg\" alt=\"Open In Colab\"/></a>"
      ]
    },
    {
      "cell_type": "code",
      "source": [
        "import glob\n",
        "import os\n",
        "import shutil\n",
        "import time\n",
        "import pytz\n",
        "\n",
        "path = '/content/drive/MyDrive/MoneyManager/'\n",
        "sqlite = path+'sqlite/backup.sqlite'\n",
        "\n",
        "mmbak = glob.glob(path+'*.mmbak')\n",
        "latest = max(mmbak, key=os.path.getmtime)\n",
        "shutil.copyfile(latest, sqlite)\n",
        "\n",
        "os.environ['TZ'] = 'Asia/Jakarta'\n",
        "time.tzset()\n",
        "mod_time = time.strftime('%d/%m/%Y %H:%M', time.localtime(os.path.getmtime(latest)))\n",
        "print(mod_time)"
      ],
      "metadata": {
        "colab": {
          "base_uri": "https://localhost:8080/"
        },
        "id": "YJSvlqlEdqEK",
        "outputId": "b0a9e28c-9f40-4414-ef00-bf4a33ea2124"
      },
      "execution_count": 63,
      "outputs": [
        {
          "output_type": "stream",
          "name": "stdout",
          "text": [
            "08/12/2021 08:37\n"
          ]
        }
      ]
    },
    {
      "cell_type": "code",
      "source": [
        "import sqlite3\n",
        "import pandas as pd\n",
        "\n",
        "con = sqlite3.connect(sqlite)\n",
        "# cur = con.cursor()\n",
        "\n",
        "query = '''\n",
        "        SELECT \n",
        "            io.WDATE as \"Date\",\n",
        "            ass.NIC_NAME as \"Assets\",\n",
        "            cat.NAME as \"Category\",\n",
        "            cat2.NAME as \"Sub Category\",\n",
        "            io.ZDATA as \"Note\",\n",
        "            io.IN_ZMONEY as \"Amount\"\n",
        "        FROM INOUTCOME io\n",
        "        LEFT JOIN ASSETS ass ON io.assetUid = ass.uid\n",
        "        LEFT JOIN ZCATEGORY cat ON io.categoryUid = cat.uid \n",
        "        LEFT JOIN ZCATEGORY cat2 ON io.ctgUid = cat2.uid  \n",
        "        WHERE \n",
        "            DO_TYPE = 1\n",
        "        ORDER BY Date DESC\n",
        "        '''\n",
        "\n",
        "\n",
        "df = pd.read_sql_query(query, con)"
      ],
      "metadata": {
        "id": "zE-R8TCDeHAW"
      },
      "execution_count": 50,
      "outputs": []
    },
    {
      "cell_type": "code",
      "source": [
        "df.head(10)"
      ],
      "metadata": {
        "colab": {
          "base_uri": "https://localhost:8080/",
          "height": 363
        },
        "id": "lBKhs-6coZAa",
        "outputId": "7fbb8883-435c-4871-9c7a-e9281ca20eb3"
      },
      "execution_count": 51,
      "outputs": [
        {
          "output_type": "execute_result",
          "data": {
            "text/html": [
              "<div>\n",
              "<style scoped>\n",
              "    .dataframe tbody tr th:only-of-type {\n",
              "        vertical-align: middle;\n",
              "    }\n",
              "\n",
              "    .dataframe tbody tr th {\n",
              "        vertical-align: top;\n",
              "    }\n",
              "\n",
              "    .dataframe thead th {\n",
              "        text-align: right;\n",
              "    }\n",
              "</style>\n",
              "<table border=\"1\" class=\"dataframe\">\n",
              "  <thead>\n",
              "    <tr style=\"text-align: right;\">\n",
              "      <th></th>\n",
              "      <th>Date</th>\n",
              "      <th>Assets</th>\n",
              "      <th>Category</th>\n",
              "      <th>Sub Category</th>\n",
              "      <th>Note</th>\n",
              "      <th>Amount</th>\n",
              "    </tr>\n",
              "  </thead>\n",
              "  <tbody>\n",
              "    <tr>\n",
              "      <th>0</th>\n",
              "      <td>2021-12-07</td>\n",
              "      <td>Gopay</td>\n",
              "      <td>None</td>\n",
              "      <td>Lunch</td>\n",
              "      <td></td>\n",
              "      <td>34300.0</td>\n",
              "    </tr>\n",
              "    <tr>\n",
              "      <th>1</th>\n",
              "      <td>2021-12-07</td>\n",
              "      <td>Gopay</td>\n",
              "      <td>None</td>\n",
              "      <td>Clothing</td>\n",
              "      <td>Boxer</td>\n",
              "      <td>109200.0</td>\n",
              "    </tr>\n",
              "    <tr>\n",
              "      <th>2</th>\n",
              "      <td>2021-12-05</td>\n",
              "      <td>Gopay</td>\n",
              "      <td>None</td>\n",
              "      <td>Groceries</td>\n",
              "      <td></td>\n",
              "      <td>35300.0</td>\n",
              "    </tr>\n",
              "    <tr>\n",
              "      <th>3</th>\n",
              "      <td>2021-12-03</td>\n",
              "      <td>Gopay</td>\n",
              "      <td>None</td>\n",
              "      <td>Subscription Service</td>\n",
              "      <td>Google One</td>\n",
              "      <td>4590.0</td>\n",
              "    </tr>\n",
              "    <tr>\n",
              "      <th>4</th>\n",
              "      <td>2021-12-03</td>\n",
              "      <td>Ovo</td>\n",
              "      <td>None</td>\n",
              "      <td>Parking</td>\n",
              "      <td></td>\n",
              "      <td>8000.0</td>\n",
              "    </tr>\n",
              "    <tr>\n",
              "      <th>5</th>\n",
              "      <td>2021-12-03</td>\n",
              "      <td>BCA</td>\n",
              "      <td>None</td>\n",
              "      <td>Other</td>\n",
              "      <td></td>\n",
              "      <td>1000.0</td>\n",
              "    </tr>\n",
              "    <tr>\n",
              "      <th>6</th>\n",
              "      <td>2021-12-03</td>\n",
              "      <td>Cash</td>\n",
              "      <td>None</td>\n",
              "      <td>Parking</td>\n",
              "      <td></td>\n",
              "      <td>8000.0</td>\n",
              "    </tr>\n",
              "    <tr>\n",
              "      <th>7</th>\n",
              "      <td>2021-12-03</td>\n",
              "      <td>Cash</td>\n",
              "      <td>None</td>\n",
              "      <td>Beverages</td>\n",
              "      <td></td>\n",
              "      <td>8000.0</td>\n",
              "    </tr>\n",
              "    <tr>\n",
              "      <th>8</th>\n",
              "      <td>2021-12-03</td>\n",
              "      <td>Cash</td>\n",
              "      <td>None</td>\n",
              "      <td>Gift</td>\n",
              "      <td></td>\n",
              "      <td>5000.0</td>\n",
              "    </tr>\n",
              "    <tr>\n",
              "      <th>9</th>\n",
              "      <td>2021-12-03</td>\n",
              "      <td>Cash</td>\n",
              "      <td>None</td>\n",
              "      <td>Gasoline</td>\n",
              "      <td></td>\n",
              "      <td>40000.0</td>\n",
              "    </tr>\n",
              "  </tbody>\n",
              "</table>\n",
              "</div>"
            ],
            "text/plain": [
              "         Date Assets Category          Sub Category        Note    Amount\n",
              "0  2021-12-07  Gopay     None                 Lunch               34300.0\n",
              "1  2021-12-07  Gopay     None              Clothing       Boxer  109200.0\n",
              "2  2021-12-05  Gopay     None             Groceries               35300.0\n",
              "3  2021-12-03  Gopay     None  Subscription Service  Google One    4590.0\n",
              "4  2021-12-03    Ovo     None               Parking                8000.0\n",
              "5  2021-12-03    BCA     None                 Other                1000.0\n",
              "6  2021-12-03   Cash     None               Parking                8000.0\n",
              "7  2021-12-03   Cash     None             Beverages                8000.0\n",
              "8  2021-12-03   Cash     None                  Gift                5000.0\n",
              "9  2021-12-03   Cash     None              Gasoline               40000.0"
            ]
          },
          "metadata": {},
          "execution_count": 51
        }
      ]
    },
    {
      "cell_type": "code",
      "source": [
        "# for row in cur.execute(query):\n",
        "#     print(row)"
      ],
      "metadata": {
        "id": "BBqlhqW6moXZ"
      },
      "execution_count": 28,
      "outputs": []
    }
  ]
}