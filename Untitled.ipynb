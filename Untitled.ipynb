{
  "nbformat": 4,
  "nbformat_minor": 0,
  "metadata": {
    "colab": {
      "name": "Untitled.ipynb",
      "provenance": [],
      "mount_file_id": "1RX2P0tb2RAnh0jZt6djwkkUfgpZX7ZSa",
      "authorship_tag": "ABX9TyN5HBWIcgPT0ubbhmggYAHb",
      "include_colab_link": true
    },
    "kernelspec": {
      "name": "python3",
      "display_name": "Python 3"
    },
    "language_info": {
      "name": "python"
    }
  },
  "cells": [
    {
      "cell_type": "markdown",
      "metadata": {
        "id": "view-in-github",
        "colab_type": "text"
      },
      "source": [
        "<a href=\"https://colab.research.google.com/github/amfakh/Expense-Forecaster/blob/main/Untitled.ipynb\" target=\"_parent\"><img src=\"https://colab.research.google.com/assets/colab-badge.svg\" alt=\"Open In Colab\"/></a>"
      ]
    },
    {
      "cell_type": "code",
      "source": [
        "import glob\n",
        "import os\n",
        "import shutil\n",
        "import time\n",
        "import pytz\n",
        "\n",
        "path = '/content/drive/MyDrive/MoneyManager/'\n",
        "sqlite = path+'sqlite/backup.sqlite'\n",
        "\n",
        "mmbak = glob.glob(path+'*.mmbak')\n",
        "latest = max(mmbak, key=os.path.getmtime)\n",
        "shutil.copyfile(latest, sqlite)\n",
        "\n",
        "os.environ['TZ'] = 'Asia/Jakarta'\n",
        "time.tzset()\n",
        "mod_time = time.strftime('%d/%m/%Y %H:%M', time.localtime(os.path.getmtime(latest)))\n",
        "print(mod_time)"
      ],
      "metadata": {
        "colab": {
          "base_uri": "https://localhost:8080/"
        },
        "id": "YJSvlqlEdqEK",
        "outputId": "655bf802-1868-436c-c092-38c1f4d69ddd"
      },
      "execution_count": 1,
      "outputs": [
        {
          "output_type": "stream",
          "name": "stdout",
          "text": [
            "25/01/2022 14:18\n"
          ]
        }
      ]
    },
    {
      "cell_type": "code",
      "source": [
        "import sqlite3\n",
        "import pandas as pd\n",
        "\n",
        "con = sqlite3.connect(sqlite)\n",
        "# cur = con.cursor()\n",
        "\n",
        "query = '''\n",
        "        SELECT \n",
        "            io.WDATE as \"Date\",\n",
        "            ass.NIC_NAME as \"Assets\",\n",
        "            ctg.Category as \"Category\",\n",
        "            ctg.SubCategory as \"Sub Category\",\n",
        "            io.ZCONTENT as \"Note\",\n",
        "            io.ZDATA as \"Description\",\n",
        "            io.IN_ZMONEY as \"Amount\"\n",
        "        FROM INOUTCOME io\n",
        "        LEFT JOIN ASSETS ass ON io.assetUid = ass.uid\n",
        "        LEFT JOIN (\n",
        "            select \n",
        "                a.uid,\n",
        "                b.NAME as Category, \n",
        "                a.NAME as SubCategory\n",
        "            from ZCATEGORY a\n",
        "            left join ZCATEGORY b on a.pUid = b.uid\n",
        "            ) ctg ON io.ctgUid = ctg.uid \n",
        "        WHERE \n",
        "            DO_TYPE = 1\n",
        "        ORDER BY Date DESC\n",
        "        '''\n",
        "\n",
        "\n",
        "df = pd.read_sql_query(query, con)"
      ],
      "metadata": {
        "id": "zE-R8TCDeHAW"
      },
      "execution_count": 2,
      "outputs": []
    },
    {
      "cell_type": "code",
      "source": [
        "df.sample(3)"
      ],
      "metadata": {
        "colab": {
          "base_uri": "https://localhost:8080/",
          "height": 143
        },
        "id": "lBKhs-6coZAa",
        "outputId": "753f9966-f6ed-451b-da66-31e50e5019bf"
      },
      "execution_count": 3,
      "outputs": [
        {
          "output_type": "execute_result",
          "data": {
            "text/html": [
              "\n",
              "  <div id=\"df-d91f6255-1fe7-4280-b4ce-a4fa007ca66d\">\n",
              "    <div class=\"colab-df-container\">\n",
              "      <div>\n",
              "<style scoped>\n",
              "    .dataframe tbody tr th:only-of-type {\n",
              "        vertical-align: middle;\n",
              "    }\n",
              "\n",
              "    .dataframe tbody tr th {\n",
              "        vertical-align: top;\n",
              "    }\n",
              "\n",
              "    .dataframe thead th {\n",
              "        text-align: right;\n",
              "    }\n",
              "</style>\n",
              "<table border=\"1\" class=\"dataframe\">\n",
              "  <thead>\n",
              "    <tr style=\"text-align: right;\">\n",
              "      <th></th>\n",
              "      <th>Date</th>\n",
              "      <th>Assets</th>\n",
              "      <th>Category</th>\n",
              "      <th>Sub Category</th>\n",
              "      <th>Note</th>\n",
              "      <th>Description</th>\n",
              "      <th>Amount</th>\n",
              "    </tr>\n",
              "  </thead>\n",
              "  <tbody>\n",
              "    <tr>\n",
              "      <th>264</th>\n",
              "      <td>2021-09-24</td>\n",
              "      <td>Gopay</td>\n",
              "      <td>Food</td>\n",
              "      <td>Dinner</td>\n",
              "      <td></td>\n",
              "      <td>CFC</td>\n",
              "      <td>39900.0</td>\n",
              "    </tr>\n",
              "    <tr>\n",
              "      <th>674</th>\n",
              "      <td>2021-02-23</td>\n",
              "      <td>Cash</td>\n",
              "      <td>Transportation</td>\n",
              "      <td>Gasoline</td>\n",
              "      <td></td>\n",
              "      <td></td>\n",
              "      <td>20000.0</td>\n",
              "    </tr>\n",
              "    <tr>\n",
              "      <th>1002</th>\n",
              "      <td>2020-08-28</td>\n",
              "      <td>ShopeePay</td>\n",
              "      <td>None</td>\n",
              "      <td>Groceries</td>\n",
              "      <td></td>\n",
              "      <td>Alfamart</td>\n",
              "      <td>45600.0</td>\n",
              "    </tr>\n",
              "  </tbody>\n",
              "</table>\n",
              "</div>\n",
              "      <button class=\"colab-df-convert\" onclick=\"convertToInteractive('df-d91f6255-1fe7-4280-b4ce-a4fa007ca66d')\"\n",
              "              title=\"Convert this dataframe to an interactive table.\"\n",
              "              style=\"display:none;\">\n",
              "        \n",
              "  <svg xmlns=\"http://www.w3.org/2000/svg\" height=\"24px\"viewBox=\"0 0 24 24\"\n",
              "       width=\"24px\">\n",
              "    <path d=\"M0 0h24v24H0V0z\" fill=\"none\"/>\n",
              "    <path d=\"M18.56 5.44l.94 2.06.94-2.06 2.06-.94-2.06-.94-.94-2.06-.94 2.06-2.06.94zm-11 1L8.5 8.5l.94-2.06 2.06-.94-2.06-.94L8.5 2.5l-.94 2.06-2.06.94zm10 10l.94 2.06.94-2.06 2.06-.94-2.06-.94-.94-2.06-.94 2.06-2.06.94z\"/><path d=\"M17.41 7.96l-1.37-1.37c-.4-.4-.92-.59-1.43-.59-.52 0-1.04.2-1.43.59L10.3 9.45l-7.72 7.72c-.78.78-.78 2.05 0 2.83L4 21.41c.39.39.9.59 1.41.59.51 0 1.02-.2 1.41-.59l7.78-7.78 2.81-2.81c.8-.78.8-2.07 0-2.86zM5.41 20L4 18.59l7.72-7.72 1.47 1.35L5.41 20z\"/>\n",
              "  </svg>\n",
              "      </button>\n",
              "      \n",
              "  <style>\n",
              "    .colab-df-container {\n",
              "      display:flex;\n",
              "      flex-wrap:wrap;\n",
              "      gap: 12px;\n",
              "    }\n",
              "\n",
              "    .colab-df-convert {\n",
              "      background-color: #E8F0FE;\n",
              "      border: none;\n",
              "      border-radius: 50%;\n",
              "      cursor: pointer;\n",
              "      display: none;\n",
              "      fill: #1967D2;\n",
              "      height: 32px;\n",
              "      padding: 0 0 0 0;\n",
              "      width: 32px;\n",
              "    }\n",
              "\n",
              "    .colab-df-convert:hover {\n",
              "      background-color: #E2EBFA;\n",
              "      box-shadow: 0px 1px 2px rgba(60, 64, 67, 0.3), 0px 1px 3px 1px rgba(60, 64, 67, 0.15);\n",
              "      fill: #174EA6;\n",
              "    }\n",
              "\n",
              "    [theme=dark] .colab-df-convert {\n",
              "      background-color: #3B4455;\n",
              "      fill: #D2E3FC;\n",
              "    }\n",
              "\n",
              "    [theme=dark] .colab-df-convert:hover {\n",
              "      background-color: #434B5C;\n",
              "      box-shadow: 0px 1px 3px 1px rgba(0, 0, 0, 0.15);\n",
              "      filter: drop-shadow(0px 1px 2px rgba(0, 0, 0, 0.3));\n",
              "      fill: #FFFFFF;\n",
              "    }\n",
              "  </style>\n",
              "\n",
              "      <script>\n",
              "        const buttonEl =\n",
              "          document.querySelector('#df-d91f6255-1fe7-4280-b4ce-a4fa007ca66d button.colab-df-convert');\n",
              "        buttonEl.style.display =\n",
              "          google.colab.kernel.accessAllowed ? 'block' : 'none';\n",
              "\n",
              "        async function convertToInteractive(key) {\n",
              "          const element = document.querySelector('#df-d91f6255-1fe7-4280-b4ce-a4fa007ca66d');\n",
              "          const dataTable =\n",
              "            await google.colab.kernel.invokeFunction('convertToInteractive',\n",
              "                                                     [key], {});\n",
              "          if (!dataTable) return;\n",
              "\n",
              "          const docLinkHtml = 'Like what you see? Visit the ' +\n",
              "            '<a target=\"_blank\" href=https://colab.research.google.com/notebooks/data_table.ipynb>data table notebook</a>'\n",
              "            + ' to learn more about interactive tables.';\n",
              "          element.innerHTML = '';\n",
              "          dataTable['output_type'] = 'display_data';\n",
              "          await google.colab.output.renderOutput(dataTable, element);\n",
              "          const docLink = document.createElement('div');\n",
              "          docLink.innerHTML = docLinkHtml;\n",
              "          element.appendChild(docLink);\n",
              "        }\n",
              "      </script>\n",
              "    </div>\n",
              "  </div>\n",
              "  "
            ],
            "text/plain": [
              "            Date     Assets        Category  ... Note Description   Amount\n",
              "264   2021-09-24      Gopay            Food  ...              CFC  39900.0\n",
              "674   2021-02-23       Cash  Transportation  ...                   20000.0\n",
              "1002  2020-08-28  ShopeePay            None  ...         Alfamart  45600.0\n",
              "\n",
              "[3 rows x 7 columns]"
            ]
          },
          "metadata": {},
          "execution_count": 3
        }
      ]
    },
    {
      "cell_type": "code",
      "source": [
        "# for row in cur.execute(query):\n",
        "#     print(row)"
      ],
      "metadata": {
        "id": "BBqlhqW6moXZ"
      },
      "execution_count": 4,
      "outputs": []
    },
    {
      "cell_type": "code",
      "source": [
        "df.to_csv(\"Test.csv\")"
      ],
      "metadata": {
        "id": "xhBS2FjIwDTQ"
      },
      "execution_count": 5,
      "outputs": []
    }
  ]
}